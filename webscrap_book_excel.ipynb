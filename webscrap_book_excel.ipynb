{
  "nbformat": 4,
  "nbformat_minor": 0,
  "metadata": {
    "colab": {
      "provenance": [],
      "include_colab_link": true
    },
    "kernelspec": {
      "name": "python3",
      "display_name": "Python 3"
    },
    "language_info": {
      "name": "python"
    }
  },
  "cells": [
    {
      "cell_type": "markdown",
      "metadata": {
        "id": "view-in-github",
        "colab_type": "text"
      },
      "source": [
        "<a href=\"https://colab.research.google.com/github/budsayamasNithi/AI/blob/main/webscrap_book_excel.ipynb\" target=\"_parent\"><img src=\"https://colab.research.google.com/assets/colab-badge.svg\" alt=\"Open In Colab\"/></a>"
      ]
    },
    {
      "cell_type": "code",
      "metadata": {
        "colab": {
          "base_uri": "https://localhost:8080/"
        },
        "id": "EI0uu8Qr5Q0X",
        "outputId": "b48b4064-0bc4-431f-f592-0a5addbd47a3"
      },
      "source": [
        "pip install bs4"
      ],
      "execution_count": 1,
      "outputs": [
        {
          "output_type": "stream",
          "name": "stdout",
          "text": [
            "Collecting bs4\n",
            "  Downloading bs4-0.0.1.tar.gz (1.1 kB)\n",
            "  Preparing metadata (setup.py) ... \u001b[?25l\u001b[?25hdone\n",
            "Requirement already satisfied: beautifulsoup4 in /usr/local/lib/python3.10/dist-packages (from bs4) (4.11.2)\n",
            "Requirement already satisfied: soupsieve>1.2 in /usr/local/lib/python3.10/dist-packages (from beautifulsoup4->bs4) (2.4.1)\n",
            "Building wheels for collected packages: bs4\n",
            "  Building wheel for bs4 (setup.py) ... \u001b[?25l\u001b[?25hdone\n",
            "  Created wheel for bs4: filename=bs4-0.0.1-py3-none-any.whl size=1256 sha256=02670aac46aa61f1b92ffd9cc79eb2a4e9327168940099ab00b2e69dfcc16f12\n",
            "  Stored in directory: /root/.cache/pip/wheels/25/42/45/b773edc52acb16cd2db4cf1a0b47117e2f69bb4eb300ed0e70\n",
            "Successfully built bs4\n",
            "Installing collected packages: bs4\n",
            "Successfully installed bs4-0.0.1\n"
          ]
        }
      ]
    },
    {
      "cell_type": "code",
      "metadata": {
        "colab": {
          "base_uri": "https://localhost:8080/"
        },
        "id": "v2R0GOOH5bzo",
        "outputId": "0764f513-cd7a-4c64-eedc-c62eaddab9af"
      },
      "source": [
        "pip install requests"
      ],
      "execution_count": 2,
      "outputs": [
        {
          "output_type": "stream",
          "name": "stdout",
          "text": [
            "Requirement already satisfied: requests in /usr/local/lib/python3.10/dist-packages (2.31.0)\n",
            "Requirement already satisfied: charset-normalizer<4,>=2 in /usr/local/lib/python3.10/dist-packages (from requests) (3.2.0)\n",
            "Requirement already satisfied: idna<4,>=2.5 in /usr/local/lib/python3.10/dist-packages (from requests) (3.4)\n",
            "Requirement already satisfied: urllib3<3,>=1.21.1 in /usr/local/lib/python3.10/dist-packages (from requests) (2.0.4)\n",
            "Requirement already satisfied: certifi>=2017.4.17 in /usr/local/lib/python3.10/dist-packages (from requests) (2023.7.22)\n"
          ]
        }
      ]
    },
    {
      "cell_type": "code",
      "metadata": {
        "colab": {
          "base_uri": "https://localhost:8080/"
        },
        "id": "viygYCoC5eFm",
        "outputId": "6a6792c4-2809-4df0-9edf-033b360b71cc"
      },
      "source": [
        "pip install pandas\n"
      ],
      "execution_count": 3,
      "outputs": [
        {
          "output_type": "stream",
          "name": "stdout",
          "text": [
            "Requirement already satisfied: pandas in /usr/local/lib/python3.10/dist-packages (1.5.3)\n",
            "Requirement already satisfied: python-dateutil>=2.8.1 in /usr/local/lib/python3.10/dist-packages (from pandas) (2.8.2)\n",
            "Requirement already satisfied: pytz>=2020.1 in /usr/local/lib/python3.10/dist-packages (from pandas) (2023.3)\n",
            "Requirement already satisfied: numpy>=1.21.0 in /usr/local/lib/python3.10/dist-packages (from pandas) (1.23.5)\n",
            "Requirement already satisfied: six>=1.5 in /usr/local/lib/python3.10/dist-packages (from python-dateutil>=2.8.1->pandas) (1.16.0)\n"
          ]
        }
      ]
    },
    {
      "cell_type": "markdown",
      "source": [
        "#openpyxl is a Python library to read/write Excel 2010 xlsx/xlsm/xltx/xltm files. It was born from lack of existing library to read/write natively from Python"
      ],
      "metadata": {
        "id": "1Q-gfTvFqhsN"
      }
    },
    {
      "cell_type": "code",
      "source": [
        "pip install openpyxl"
      ],
      "metadata": {
        "colab": {
          "base_uri": "https://localhost:8080/"
        },
        "id": "BmqSZizfqcsJ",
        "outputId": "51e292f0-a94d-45a5-adc2-d38ecff184dd"
      },
      "execution_count": 4,
      "outputs": [
        {
          "output_type": "stream",
          "name": "stdout",
          "text": [
            "Requirement already satisfied: openpyxl in /usr/local/lib/python3.10/dist-packages (3.1.2)\n",
            "Requirement already satisfied: et-xmlfile in /usr/local/lib/python3.10/dist-packages (from openpyxl) (1.1.0)\n"
          ]
        }
      ]
    },
    {
      "cell_type": "code",
      "metadata": {
        "id": "dxdGzh3b5jwB"
      },
      "source": [
        "import pandas as pd\n",
        "import bs4\n",
        "import requests\n",
        "import openpyxl"
      ],
      "execution_count": 5,
      "outputs": []
    },
    {
      "cell_type": "markdown",
      "source": [
        "# *Exercise *\n",
        "1. ให้นักศึกษาทดลองเขียนโปรแกรมเพื่อทำการ scrap ข้อมูลจากเว็บไซต์ https://www.priceza.com/ โดยเลือกรายการสินค้าที่ชอบและบันทึกข้อมูลดังกล่าวในไฟล์ priceza.csv"
      ],
      "metadata": {
        "id": "ND1kNwwZdjuT"
      }
    },
    {
      "cell_type": "code",
      "source": [
        "item = 1\n",
        "name_list = []\n",
        "price_list = []\n",
        "\n",
        "while item <= 10:\n",
        "  data = requests.get('https://www.vans.com/en-us/shoes-c00081?icn=hp-shopby-p2_shoes_product__d-plp_071923' + str(item))\n",
        "  soup = bs4.BeautifulSoup(data.text)\n",
        "\n",
        "\n",
        "  name = soup.find_all('a',{'class':'vf-product-card__title vf-link'})\n",
        "  price = soup.find_all('span',{'class':'vf-text vf-text--sm--text-align vf-text--md--text-align vf-text--lg--text-align vf-price--regular'})\n",
        "  for i in name:\n",
        "    name_list.append(i.text)\n",
        "\n",
        "  for i in price:\n",
        "    price_list.append(i.text)\n",
        "\n",
        "  print('Complete item number: ',item)\n",
        "  item += 1\n",
        "\n",
        "table = pd.DataFrame([name_list,price_list]).transpose()\n",
        "table.columns = ['name','price']\n",
        "table.set_index('name')\n",
        "table.to_excel('all bestsellershose.xlsx',engine='openpyxl') #file is created on google colab cloud"
      ],
      "metadata": {
        "colab": {
          "base_uri": "https://localhost:8080/"
        },
        "id": "xgd7grGy4hq2",
        "outputId": "b56ffcb6-2c1e-4460-b4fc-2b52044893d6"
      },
      "execution_count": 8,
      "outputs": [
        {
          "output_type": "stream",
          "name": "stdout",
          "text": [
            "Complete item number:  1\n",
            "Complete item number:  2\n",
            "Complete item number:  3\n",
            "Complete item number:  4\n",
            "Complete item number:  5\n",
            "Complete item number:  6\n",
            "Complete item number:  7\n",
            "Complete item number:  8\n",
            "Complete item number:  9\n",
            "Complete item number:  10\n"
          ]
        }
      ]
    },
    {
      "cell_type": "code",
      "source": [
        "item = 1\n",
        "name_list = []\n",
        "price_list = []\n",
        "\n",
        "while item <= 10:\n",
        "  data = requests.get('https://www.priceza.com/b/clothing-fashion-and-accessories/%E0%B8%A3%E0%B8%AD%E0%B8%87%E0%B9%80%E0%B8%97%E0%B9%89%E0%B8%B2%E0%B8%9C%E0%B9%89%E0%B8%B2%E0%B9%83%E0%B8%9A' + str(item))\n",
        "  soup = bs4.BeautifulSoup(data.text)\n",
        "\n",
        "  name = soup.find_all('h3',{'class':'pz-pdb_name'})\n",
        "  price = soup.find_all('div',{'class':'pz-pdb-price'})\n",
        "\n",
        "  for i in name:\n",
        "    name_list.append(i.text)\n",
        "\n",
        "  for i in price:\n",
        "    price_list.append(i.text)\n",
        "\n",
        "  print('Complete item number: ',item)\n",
        "  item += 1\n",
        "\n",
        "table = pd.DataFrame([name_list,price_list]).transpose()\n",
        "table.columns = ['name','price']\n",
        "table.set_index('name')\n",
        "table.to_excel('all bestsellershose.xlsx',engine='openpyxl') #file is created on google colab cloud"
      ],
      "metadata": {
        "id": "BAKofcbvbGoM",
        "outputId": "74a27f49-5aaa-4d9c-b61d-e49c12696041",
        "colab": {
          "base_uri": "https://localhost:8080/"
        }
      },
      "execution_count": null,
      "outputs": [
        {
          "output_type": "stream",
          "name": "stdout",
          "text": [
            "Complete item number:  1\n",
            "Complete item number:  2\n",
            "Complete item number:  3\n",
            "Complete item number:  4\n",
            "Complete item number:  5\n",
            "Complete item number:  6\n",
            "Complete item number:  7\n",
            "Complete item number:  8\n",
            "Complete item number:  9\n",
            "Complete item number:  10\n"
          ]
        }
      ]
    }
  ]
}