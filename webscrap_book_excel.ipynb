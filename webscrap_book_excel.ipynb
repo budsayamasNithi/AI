{
  "nbformat": 4,
  "nbformat_minor": 0,
  "metadata": {
    "colab": {
      "provenance": [],
      "include_colab_link": true
    },
    "kernelspec": {
      "name": "python3",
      "display_name": "Python 3"
    },
    "language_info": {
      "name": "python"
    }
  },
  "cells": [
    {
      "cell_type": "markdown",
      "metadata": {
        "id": "view-in-github",
        "colab_type": "text"
      },
      "source": [
        "<a href=\"https://colab.research.google.com/github/budsayamasNithi/AI/blob/main/webscrap_book_excel.ipynb\" target=\"_parent\"><img src=\"https://colab.research.google.com/assets/colab-badge.svg\" alt=\"Open In Colab\"/></a>"
      ]
    },
    {
      "cell_type": "code",
      "metadata": {
        "colab": {
          "base_uri": "https://localhost:8080/"
        },
        "id": "EI0uu8Qr5Q0X",
        "outputId": "eaf143f8-49ae-434e-e8b0-15b6df650761"
      },
      "source": [
        "pip install bs4"
      ],
      "execution_count": 9,
      "outputs": [
        {
          "output_type": "stream",
          "name": "stdout",
          "text": [
            "Requirement already satisfied: bs4 in /usr/local/lib/python3.10/dist-packages (0.0.1)\n",
            "Requirement already satisfied: beautifulsoup4 in /usr/local/lib/python3.10/dist-packages (from bs4) (4.11.2)\n",
            "Requirement already satisfied: soupsieve>1.2 in /usr/local/lib/python3.10/dist-packages (from beautifulsoup4->bs4) (2.4.1)\n"
          ]
        }
      ]
    },
    {
      "cell_type": "code",
      "metadata": {
        "colab": {
          "base_uri": "https://localhost:8080/"
        },
        "id": "v2R0GOOH5bzo",
        "outputId": "8e8caf5e-e4d5-4c76-eb60-4fdd86f549ea"
      },
      "source": [
        "pip install requests"
      ],
      "execution_count": 10,
      "outputs": [
        {
          "output_type": "stream",
          "name": "stdout",
          "text": [
            "Requirement already satisfied: requests in /usr/local/lib/python3.10/dist-packages (2.31.0)\n",
            "Requirement already satisfied: charset-normalizer<4,>=2 in /usr/local/lib/python3.10/dist-packages (from requests) (3.2.0)\n",
            "Requirement already satisfied: idna<4,>=2.5 in /usr/local/lib/python3.10/dist-packages (from requests) (3.4)\n",
            "Requirement already satisfied: urllib3<3,>=1.21.1 in /usr/local/lib/python3.10/dist-packages (from requests) (1.26.16)\n",
            "Requirement already satisfied: certifi>=2017.4.17 in /usr/local/lib/python3.10/dist-packages (from requests) (2023.7.22)\n"
          ]
        }
      ]
    },
    {
      "cell_type": "code",
      "metadata": {
        "colab": {
          "base_uri": "https://localhost:8080/"
        },
        "id": "viygYCoC5eFm",
        "outputId": "228600d3-a904-449e-90b1-3ae4c3cf4f9e"
      },
      "source": [
        "pip install pandas\n"
      ],
      "execution_count": 11,
      "outputs": [
        {
          "output_type": "stream",
          "name": "stdout",
          "text": [
            "Requirement already satisfied: pandas in /usr/local/lib/python3.10/dist-packages (1.5.3)\n",
            "Requirement already satisfied: python-dateutil>=2.8.1 in /usr/local/lib/python3.10/dist-packages (from pandas) (2.8.2)\n",
            "Requirement already satisfied: pytz>=2020.1 in /usr/local/lib/python3.10/dist-packages (from pandas) (2022.7.1)\n",
            "Requirement already satisfied: numpy>=1.21.0 in /usr/local/lib/python3.10/dist-packages (from pandas) (1.23.5)\n",
            "Requirement already satisfied: six>=1.5 in /usr/local/lib/python3.10/dist-packages (from python-dateutil>=2.8.1->pandas) (1.16.0)\n"
          ]
        }
      ]
    },
    {
      "cell_type": "markdown",
      "source": [
        "#openpyxl is a Python library to read/write Excel 2010 xlsx/xlsm/xltx/xltm files. It was born from lack of existing library to read/write natively from Python"
      ],
      "metadata": {
        "id": "1Q-gfTvFqhsN"
      }
    },
    {
      "cell_type": "code",
      "source": [
        "pip install openpyxl"
      ],
      "metadata": {
        "colab": {
          "base_uri": "https://localhost:8080/"
        },
        "id": "BmqSZizfqcsJ",
        "outputId": "71194ec1-d8a0-4954-bf3c-147d321fd178"
      },
      "execution_count": null,
      "outputs": [
        {
          "output_type": "stream",
          "name": "stdout",
          "text": [
            "Requirement already satisfied: openpyxl in /usr/local/lib/python3.10/dist-packages (3.0.10)\n",
            "Requirement already satisfied: et-xmlfile in /usr/local/lib/python3.10/dist-packages (from openpyxl) (1.1.0)\n"
          ]
        }
      ]
    },
    {
      "cell_type": "code",
      "metadata": {
        "id": "dxdGzh3b5jwB"
      },
      "source": [
        "import pandas as pd\n",
        "import bs4\n",
        "import requests\n",
        "import openpyxl"
      ],
      "execution_count": 12,
      "outputs": []
    },
    {
      "cell_type": "markdown",
      "source": [
        "# *Exercise *\n",
        "1. ให้นักศึกษาทดลองเขียนโปรแกรมเพื่อทำการ scrap ข้อมูลจากเว็บไซต์ https://www.priceza.com/ โดยเลือกรายการสินค้าที่ชอบและบันทึกข้อมูลดังกล่าวในไฟล์ priceza.csv"
      ],
      "metadata": {
        "id": "ND1kNwwZdjuT"
      }
    },
    {
      "cell_type": "code",
      "source": [
        "item = 1\n",
        "name_list = []\n",
        "price_list = []\n",
        "\n",
        "while item <= 10:\n",
        "  data = requests.get('https://www.naiin.com/category?type_book=best_seller&product_type_id=1&pageNo=' + str(item))\n",
        "  soup = bs4.BeautifulSoup(data.text)\n",
        "\n",
        "  name = soup.find_all('a',{'class':'itemname'})\n",
        "  price = soup.find_all('p',{'class':'txt-price'})\n",
        "\n",
        "  for i in name:\n",
        "    name_list.append(i.text)\n",
        "\n",
        "  for i in price:\n",
        "    price_list.append(i.text)\n",
        "\n",
        "  print('Complete item number: ',item)\n",
        "  item += 1\n",
        "\n",
        "table = pd.DataFrame([name_list,price_list]).transpose()\n",
        "table.columns = ['name','price']\n",
        "table.set_index('name')\n",
        "table.to_excel('all bestseller.xlsx',engine='openpyxl') #file is created on google colab cloud"
      ],
      "metadata": {
        "colab": {
          "base_uri": "https://localhost:8080/"
        },
        "id": "xgd7grGy4hq2",
        "outputId": "bd5e3480-79ab-4cb1-fb85-2fe7d5297c63"
      },
      "execution_count": null,
      "outputs": [
        {
          "output_type": "stream",
          "name": "stdout",
          "text": [
            "Complete item number:  1\n",
            "Complete item number:  2\n",
            "Complete item number:  3\n",
            "Complete item number:  4\n",
            "Complete item number:  5\n",
            "Complete item number:  6\n",
            "Complete item number:  7\n",
            "Complete item number:  8\n",
            "Complete item number:  9\n",
            "Complete item number:  10\n"
          ]
        }
      ]
    },
    {
      "cell_type": "code",
      "source": [
        "item = 1\n",
        "name_list = []\n",
        "price_list = []\n",
        "\n",
        "while item <= 10:\n",
        "  data = requests.get('https://www.priceza.com/b/clothing-fashion-and-accessories/%E0%B8%A3%E0%B8%AD%E0%B8%87%E0%B9%80%E0%B8%97%E0%B9%89%E0%B8%B2%E0%B8%9C%E0%B9%89%E0%B8%B2%E0%B9%83%E0%B8%9A' + str(item))\n",
        "  soup = bs4.BeautifulSoup(data.text)\n",
        "\n",
        "  name = soup.find_all('h3',{'class':'pz-pdb_name'})\n",
        "  price = soup.find_all('div',{'class':'pz-pdb-price'})\n",
        "\n",
        "  for i in name:\n",
        "    name_list.append(i.text)\n",
        "\n",
        "  for i in price:\n",
        "    price_list.append(i.text)\n",
        "\n",
        "  print('Complete item number: ',item)\n",
        "  item += 1\n",
        "\n",
        "table = pd.DataFrame([name_list,price_list]).transpose()\n",
        "table.columns = ['name','price']\n",
        "table.set_index('name')\n",
        "table.to_excel('all bestsellershose.xlsx',engine='openpyxl') #file is created on google colab cloud"
      ],
      "metadata": {
        "id": "BAKofcbvbGoM",
        "outputId": "74a27f49-5aaa-4d9c-b61d-e49c12696041",
        "colab": {
          "base_uri": "https://localhost:8080/"
        }
      },
      "execution_count": 14,
      "outputs": [
        {
          "output_type": "stream",
          "name": "stdout",
          "text": [
            "Complete item number:  1\n",
            "Complete item number:  2\n",
            "Complete item number:  3\n",
            "Complete item number:  4\n",
            "Complete item number:  5\n",
            "Complete item number:  6\n",
            "Complete item number:  7\n",
            "Complete item number:  8\n",
            "Complete item number:  9\n",
            "Complete item number:  10\n"
          ]
        }
      ]
    }
  ]
}