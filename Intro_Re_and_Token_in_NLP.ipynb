{
  "nbformat": 4,
  "nbformat_minor": 0,
  "metadata": {
    "colab": {
      "provenance": [],
      "include_colab_link": true
    },
    "kernelspec": {
      "name": "python3",
      "display_name": "Python 3"
    },
    "language_info": {
      "name": "python"
    }
  },
  "cells": [
    {
      "cell_type": "markdown",
      "metadata": {
        "id": "view-in-github",
        "colab_type": "text"
      },
      "source": [
        "<a href=\"https://colab.research.google.com/github/budsayamasNithi/AI/blob/main/Intro_Re_and_Token_in_NLP.ipynb\" target=\"_parent\"><img src=\"https://colab.research.google.com/assets/colab-badge.svg\" alt=\"Open In Colab\"/></a>"
      ]
    },
    {
      "cell_type": "markdown",
      "source": [
        "# Introduction to Regular Expression and Tokenization"
      ],
      "metadata": {
        "id": "3dHiX-nrJgpZ"
      }
    },
    {
      "cell_type": "code",
      "execution_count": 1,
      "metadata": {
        "id": "QFbZ3nntI0lX"
      },
      "outputs": [],
      "source": [
        "import re"
      ]
    },
    {
      "cell_type": "markdown",
      "source": [
        "#Match"
      ],
      "metadata": {
        "id": "vcBLWUgYkNoX"
      }
    },
    {
      "cell_type": "code",
      "source": [
        "s = 'GeeksforGeeks: A computer science portal for geeks.'\n",
        "\n",
        "re.match('Geeks',s)"
      ],
      "metadata": {
        "colab": {
          "base_uri": "https://localhost:8080/"
        },
        "id": "XXuFceC9Je-v",
        "outputId": "1d74d2f4-8747-4fda-f82a-a50f6ea10f4d"
      },
      "execution_count": 2,
      "outputs": [
        {
          "output_type": "execute_result",
          "data": {
            "text/plain": [
              "<re.Match object; span=(0, 5), match='Geeks'>"
            ]
          },
          "metadata": {},
          "execution_count": 2
        }
      ]
    },
    {
      "cell_type": "code",
      "source": [
        "re.match('\\w+',s)"
      ],
      "metadata": {
        "colab": {
          "base_uri": "https://localhost:8080/"
        },
        "id": "3pORqWgIJ59H",
        "outputId": "5f55b008-f091-46d1-dd68-0eb328cc0f92"
      },
      "execution_count": 3,
      "outputs": [
        {
          "output_type": "execute_result",
          "data": {
            "text/plain": [
              "<re.Match object; span=(0, 13), match='GeeksforGeeks'>"
            ]
          },
          "metadata": {},
          "execution_count": 3
        }
      ]
    },
    {
      "cell_type": "code",
      "source": [
        "# Match strings starting with \"The\"^ขึ้นต้น\n",
        "regex = r'^The'\n",
        "strings = ['The quick brown fox', 'The lazy dog', 'A quick brown fox']\n",
        "for string in strings:\n",
        "    if re.match(regex, string):\n",
        "        print(f'Matched: {string}')\n",
        "    else:\n",
        "        print(f'Not matched: {string}')"
      ],
      "metadata": {
        "colab": {
          "base_uri": "https://localhost:8080/"
        },
        "id": "zYGxagc-LJ1-",
        "outputId": "3a5582e9-9080-4121-c746-751d27098561"
      },
      "execution_count": 5,
      "outputs": [
        {
          "output_type": "stream",
          "name": "stdout",
          "text": [
            "Matched: The quick brown fox\n",
            "Matched: The lazy dog\n",
            "Not matched: A quick brown fox\n"
          ]
        }
      ]
    },
    {
      "cell_type": "markdown",
      "source": [
        "#Split"
      ],
      "metadata": {
        "id": "rOen4v_ckQAX"
      }
    },
    {
      "cell_type": "code",
      "source": [
        "from re import split #\n",
        "print(split('\\W+', 'Words, words , Words'))\n",
        "print(split('\\W+', \"Word's words Words\"))"
      ],
      "metadata": {
        "colab": {
          "base_uri": "https://localhost:8080/"
        },
        "id": "zgnzVzPZMndV",
        "outputId": "1cc7db88-5ffb-4f5f-a368-df306e059d58"
      },
      "execution_count": 7,
      "outputs": [
        {
          "output_type": "stream",
          "name": "stdout",
          "text": [
            "['Words', 'words', 'Words']\n",
            "['Word', 's', 'words', 'Words']\n"
          ]
        }
      ]
    },
    {
      "cell_type": "code",
      "source": [
        "s = 'A! B. C D'\n",
        "pattern = r'\\W+'  #\\W ใช้แทนสิ่งที่ไม่ใช่ตัวเลข, ตัวอักษร และ _\n",
        "\n",
        "l = re.split(pattern, s)\n",
        "print(l)"
      ],
      "metadata": {
        "colab": {
          "base_uri": "https://localhost:8080/"
        },
        "id": "OsI2QaZhkSR_",
        "outputId": "c0f12f7f-d67e-4ccb-a94c-af16d99c2463"
      },
      "execution_count": 8,
      "outputs": [
        {
          "output_type": "stream",
          "name": "stdout",
          "text": [
            "['A', 'B', 'C', 'D']\n"
          ]
        }
      ]
    },
    {
      "cell_type": "code",
      "source": [
        "print(split('\\W+', 'On 12th Jan 2016, at 11:02 AM'))"
      ],
      "metadata": {
        "colab": {
          "base_uri": "https://localhost:8080/"
        },
        "id": "Q1YvA-WDNGcR",
        "outputId": "e75b12e6-3a72-4c5a-ea72-c4c13a464aff"
      },
      "execution_count": 9,
      "outputs": [
        {
          "output_type": "stream",
          "name": "stdout",
          "text": [
            "['On', '12th', 'Jan', '2016', 'at', '11', '02', 'AM']\n"
          ]
        }
      ]
    },
    {
      "cell_type": "code",
      "source": [
        "print(split('\\d+', 'On 12th Jan 2016, at 11:02 AM'))#digitsplit"
      ],
      "metadata": {
        "colab": {
          "base_uri": "https://localhost:8080/"
        },
        "id": "c3jfk-yfNLBQ",
        "outputId": "a5b2cb11-e17d-4f47-db99-8e95d1c77dcf"
      },
      "execution_count": 11,
      "outputs": [
        {
          "output_type": "stream",
          "name": "stdout",
          "text": [
            "['On ', 'th Jan ', ', at ', ':', ' AM']\n"
          ]
        }
      ]
    },
    {
      "cell_type": "code",
      "source": [
        "print(re.split('[a-f]+', 'Aey, Boy oh boy, come here', flags=re.IGNORECASE))#ตัดตัวใหญ่ splitตัวเล็กเฉพาะ a-f\n",
        "print(re.split('[a-f]+', 'Aey, Boy oh boy, come here'))"
      ],
      "metadata": {
        "colab": {
          "base_uri": "https://localhost:8080/"
        },
        "id": "8yilFlm9iKPI",
        "outputId": "7b6303b2-2b9d-4bfd-a9b1-8209c3ece424"
      },
      "execution_count": 14,
      "outputs": [
        {
          "output_type": "stream",
          "name": "stdout",
          "text": [
            "['', 'y, ', 'oy oh ', 'oy, ', 'om', ' h', 'r', '']\n",
            "['A', 'y, Boy oh ', 'oy, ', 'om', ' h', 'r', '']\n"
          ]
        }
      ]
    },
    {
      "cell_type": "markdown",
      "source": [
        "#Findall"
      ],
      "metadata": {
        "id": "X_x5yuykmOoK"
      }
    },
    {
      "cell_type": "code",
      "source": [
        "string = \"\"\"Hello my Number is 123456789 and\n",
        "            my friend's number is 987654321\"\"\"\n",
        "\n",
        "# A sample regular expression to find digits.\n",
        "regex = '\\d+'\n",
        "\n",
        "match = re.findall(regex, string)\n",
        "print(match)"
      ],
      "metadata": {
        "colab": {
          "base_uri": "https://localhost:8080/"
        },
        "id": "5tDRLcZlNOd_",
        "outputId": "e8cce2e7-f3f3-4bef-da75-a3c4b3f43d92"
      },
      "execution_count": 15,
      "outputs": [
        {
          "output_type": "stream",
          "name": "stdout",
          "text": [
            "['123456789', '987654321']\n"
          ]
        }
      ]
    },
    {
      "cell_type": "code",
      "source": [
        "email_str = '''the emails are support@codecademy.com or help@codecademy.com'''\n",
        "\n",
        "emails = re.findall(r\"\\S+@\\S+\", email_str)#\\S+@\\S+pattenemail\n",
        "# \\S matches any character except a space, tab or newline\n",
        "\n",
        "print(emails)\n"
      ],
      "metadata": {
        "colab": {
          "base_uri": "https://localhost:8080/"
        },
        "id": "-xLp4raeiIZt",
        "outputId": "a402c63f-244f-4c72-febd-3a28ea5109eb"
      },
      "execution_count": 16,
      "outputs": [
        {
          "output_type": "stream",
          "name": "stdout",
          "text": [
            "['support@codecademy.com', 'help@codecademy.com']\n"
          ]
        }
      ]
    },
    {
      "cell_type": "markdown",
      "source": [
        "# Exercise"
      ],
      "metadata": {
        "id": "uHEdWrQ-OHUP"
      }
    },
    {
      "cell_type": "code",
      "source": [
        "target_string = \"My name is maximums and my luck numbers are 12 45 78\"\n",
        "# split on white-space\n",
        "\n",
        "\n",
        "# Output ['My', 'name', 'is', 'maximums', 'and', 'my', 'luck', 'numbers', 'are', '12', '45', '78']"
      ],
      "metadata": {
        "colab": {
          "base_uri": "https://localhost:8080/"
        },
        "id": "NHU0uqj1NgWO",
        "outputId": "4fb5d869-81c2-44ff-cf10-104cd930da06"
      },
      "execution_count": null,
      "outputs": [
        {
          "output_type": "stream",
          "name": "stdout",
          "text": [
            "['My', 'name', 'is', 'maximums', 'and', 'my', 'luck', 'numbers', 'are', '12', '45', '78']\n"
          ]
        }
      ]
    },
    {
      "cell_type": "code",
      "source": [],
      "metadata": {
        "id": "j1dZ-yR6yN0R"
      },
      "execution_count": null,
      "outputs": []
    },
    {
      "cell_type": "code",
      "source": [
        "str = 'foo635bar4125mango2apple21orange'\n",
        "#split with regular expression\n",
        "\n",
        "\n",
        "#OUtput ['foo', 'bar', 'mango', 'apple', 'orange']"
      ],
      "metadata": {
        "colab": {
          "base_uri": "https://localhost:8080/"
        },
        "id": "G4zkc6dtigoW",
        "outputId": "9752377e-bde2-4100-d4c7-eef36732e48b"
      },
      "execution_count": null,
      "outputs": [
        {
          "output_type": "stream",
          "name": "stdout",
          "text": [
            "['foo', 'bar', 'mango', 'apple', 'orange']\n"
          ]
        }
      ]
    },
    {
      "cell_type": "code",
      "source": [],
      "metadata": {
        "id": "FE3XCywOyO9f"
      },
      "execution_count": null,
      "outputs": []
    },
    {
      "cell_type": "code",
      "source": [
        "\n",
        "text = \"Visit our website at https://www.sparkbyexamples.com  and https://www.oracle.com  for more coding tutorials.\"\n",
        "\n",
        "#Output ['https://www.sparkbyexamples.com', 'https://www.oracle.com']"
      ],
      "metadata": {
        "colab": {
          "base_uri": "https://localhost:8080/"
        },
        "id": "Q788Q3Uunhae",
        "outputId": "e47f14a3-049e-497e-d6cb-74b104b241f5"
      },
      "execution_count": null,
      "outputs": [
        {
          "output_type": "stream",
          "name": "stdout",
          "text": [
            "['https://www.sparkbyexamples.com', 'https://www.oracle.com']\n"
          ]
        }
      ]
    },
    {
      "cell_type": "code",
      "source": [],
      "metadata": {
        "id": "WGyLlHPGyR4q"
      },
      "execution_count": null,
      "outputs": []
    },
    {
      "cell_type": "markdown",
      "source": [
        "#Tokenization"
      ],
      "metadata": {
        "id": "2Lc9-B0ovqtO"
      }
    },
    {
      "cell_type": "code",
      "source": [
        "#word tokenization using split\n",
        "text = \"\"\"There are multiple ways we can perform tokenization on given text data. We can choose any method based on langauge, library and purpose of modeling.\"\"\"\n",
        "# Split text by whitespace\n",
        "tokens = text.split()\n",
        "print(tokens)"
      ],
      "metadata": {
        "colab": {
          "base_uri": "https://localhost:8080/"
        },
        "id": "MQvhUjhvvtg8",
        "outputId": "9cf45b63-91af-42bd-ad4d-fb8053007feb"
      },
      "execution_count": null,
      "outputs": [
        {
          "output_type": "stream",
          "name": "stdout",
          "text": [
            "['There', 'are', 'multiple', 'ways', 'we', 'can', 'perform', 'tokenization', 'on', 'given', 'text', 'data.', 'We', 'can', 'choose', 'any', 'method', 'based', 'on', 'langauge,', 'library', 'and', 'purpose', 'of', 'modeling.']\n"
          ]
        }
      ]
    },
    {
      "cell_type": "markdown",
      "source": [
        "**Tokenization Using NLTK **\n",
        "\n",
        "Natural Language Toolkit (NLTK) is library written in python for natural language processing.\n",
        "NLTK has module word_tokenize() for word tokenization and sent_tokenize() for sentence tokenization.\n",
        "\n"
      ],
      "metadata": {
        "id": "S3L1oOZewOQN"
      }
    },
    {
      "cell_type": "code",
      "source": [
        "pip install nltk"
      ],
      "metadata": {
        "colab": {
          "base_uri": "https://localhost:8080/"
        },
        "id": "qDD5-wkjwiSN",
        "outputId": "379ac8ae-4d0c-43f6-a502-378102bbfaa6"
      },
      "execution_count": null,
      "outputs": [
        {
          "output_type": "stream",
          "name": "stdout",
          "text": [
            "Requirement already satisfied: nltk in /usr/local/lib/python3.10/dist-packages (3.8.1)\n",
            "Requirement already satisfied: click in /usr/local/lib/python3.10/dist-packages (from nltk) (8.1.7)\n",
            "Requirement already satisfied: joblib in /usr/local/lib/python3.10/dist-packages (from nltk) (1.3.2)\n",
            "Requirement already satisfied: regex>=2021.8.3 in /usr/local/lib/python3.10/dist-packages (from nltk) (2023.6.3)\n",
            "Requirement already satisfied: tqdm in /usr/local/lib/python3.10/dist-packages (from nltk) (4.66.1)\n"
          ]
        }
      ]
    },
    {
      "cell_type": "code",
      "source": [
        "import nltk\n",
        "nltk.download('punkt') #Punkt Sentence Tokenizer"
      ],
      "metadata": {
        "colab": {
          "base_uri": "https://localhost:8080/"
        },
        "id": "7sq1Q6VBwu0d",
        "outputId": "b7867ede-6e1c-4db4-fb6c-1d20534aff4e"
      },
      "execution_count": null,
      "outputs": [
        {
          "output_type": "stream",
          "name": "stderr",
          "text": [
            "[nltk_data] Downloading package punkt to /root/nltk_data...\n",
            "[nltk_data]   Unzipping tokenizers/punkt.zip.\n"
          ]
        },
        {
          "output_type": "execute_result",
          "data": {
            "text/plain": [
              "True"
            ]
          },
          "metadata": {},
          "execution_count": 49
        }
      ]
    },
    {
      "cell_type": "code",
      "source": [
        "from nltk.tokenize import word_tokenize\n",
        "\n",
        "text = \"\"\"There are multiple ways we can perform tokenization on given text data. We can choose any method based on langauge, library and purpose of modeling.\"\"\"\n",
        "tokens = word_tokenize(text)\n",
        "print(tokens)"
      ],
      "metadata": {
        "colab": {
          "base_uri": "https://localhost:8080/"
        },
        "id": "nnzn7BE0wSWV",
        "outputId": "3fe02e32-5182-4b0c-f59b-016de5890ec1"
      },
      "execution_count": null,
      "outputs": [
        {
          "output_type": "stream",
          "name": "stdout",
          "text": [
            "['There', 'are', 'multiple', 'ways', 'we', 'can', 'perform', 'tokenization', 'on', 'given', 'text', 'data', '.', 'We', 'can', 'choose', 'any', 'method', 'based', 'on', 'langauge', ',', 'library', 'and', 'purpose', 'of', 'modeling', '.']\n"
          ]
        }
      ]
    },
    {
      "cell_type": "code",
      "source": [
        "from nltk.tokenize import sent_tokenize\n",
        "\n",
        "text = \"\"\"Characters like periods, exclamation point and newline char are used to separate the sentences. But one drawback with split() method, that we can only use one separator at a time! So sentence tonenization wont be foolproof with split() method.\"\"\"\n",
        "sent_tokenize(text)"
      ],
      "metadata": {
        "colab": {
          "base_uri": "https://localhost:8080/"
        },
        "id": "abaMAvegxLkE",
        "outputId": "0ee48da8-338d-4712-c167-08ef0a22f30b"
      },
      "execution_count": null,
      "outputs": [
        {
          "output_type": "execute_result",
          "data": {
            "text/plain": [
              "['Characters like periods, exclamation point and newline char are used to separate the sentences.',\n",
              " 'But one drawback with split() method, that we can only use one separator at a time!',\n",
              " 'So sentence tonenization wont be foolproof with split() method.']"
            ]
          },
          "metadata": {},
          "execution_count": 51
        }
      ]
    },
    {
      "cell_type": "markdown",
      "source": [
        "# Exercise"
      ],
      "metadata": {
        "id": "IaVRrAasyCGX"
      }
    },
    {
      "cell_type": "markdown",
      "source": [
        "1. ทดลองแบ่งประโยคและตัดคำจากข้อความที่กำหนดให้"
      ],
      "metadata": {
        "id": "hW0s1GDa0LqF"
      }
    },
    {
      "cell_type": "code",
      "source": [
        "EXAMPLE_TEXT = \"Hello Mr. Paul, how are you doing today? The weather is great, and Python is awesome. The sky is pinkish-blue. You shouldn't eat cardboard.\"\n",
        "\n"
      ],
      "metadata": {
        "colab": {
          "base_uri": "https://localhost:8080/"
        },
        "id": "I5wjdmDpyQhd",
        "outputId": "effc9a6c-695b-4f2d-8add-9e0eb821693e"
      },
      "execution_count": null,
      "outputs": [
        {
          "output_type": "stream",
          "name": "stdout",
          "text": [
            "SENTENCE TOKENIZE :\n",
            "['Hello Mr. Paul, how are you doing today?', 'The weather is great, and Python is awesome.', 'The sky is pinkish-blue.', \"You shouldn't eat cardboard.\"]\n",
            "Word  TOKENIZE :\n",
            "['Hello', 'Mr.', 'Paul', ',', 'how', 'are', 'you', 'doing', 'today', '?', 'The', 'weather', 'is', 'great', ',', 'and', 'Python', 'is', 'awesome', '.', 'The', 'sky', 'is', 'pinkish-blue', '.', 'You', 'should', \"n't\", 'eat', 'cardboard', '.']\n"
          ]
        }
      ]
    },
    {
      "cell_type": "markdown",
      "source": [
        "2. ทดลองตัดคำจากไฟล์ myfile.txt"
      ],
      "metadata": {
        "id": "KhHl2hq70TiV"
      }
    },
    {
      "cell_type": "code",
      "source": [],
      "metadata": {
        "colab": {
          "base_uri": "https://localhost:8080/"
        },
        "id": "Y4RFhQxHys8h",
        "outputId": "a791af13-8258-442a-fdbc-79fc9d477cd9"
      },
      "execution_count": null,
      "outputs": [
        {
          "output_type": "stream",
          "name": "stdout",
          "text": [
            "['Six', 'police', 'officers', 'have', 'been', 'dismissed', 'from', 'the', 'police', 'force', 'over', 'their', 'alleged', 'involvement', 'in', 'the', 'shooting', 'at', 'a', 'dinner', 'party', 'at', 'the', 'house', 'of', 'a', 'kamnan', '(', 'tambon', 'chief', ')', 'in', 'Nakhon', 'Pathom', 'on', 'Wednesday', 'night', '.', 'In', '...', 'Please', 'credit', 'and', 'share', 'this', 'article', 'with', 'others', 'using', 'this', 'link', ':', 'https', ':', '//www.bangkokpost.com/thailand/general/2644649/6-cops-sacked-over-fatal-shooting-at-wealthy-kamnans-dinner-party', '.', 'View', 'our', 'policies', 'at', 'http', ':', '//goo.gl/9HgTd', 'and', 'http', ':', '//goo.gl/ou6Ip', '.', '©', 'Bangkok', 'Post', 'PCL', '.', 'All', 'rights', 'reserved', '.']\n"
          ]
        }
      ]
    }
  ]
}